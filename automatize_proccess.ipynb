{
 "cells": [
  {
   "cell_type": "code",
   "execution_count": null,
   "metadata": {},
   "outputs": [],
   "source": [
    "!pip install pyinstaller\n",
    "!pip install --upgrade pyinstaller\n",
    "\n",
    "!pip install auto-py-to-exe\n",
    "!pip install -U auto-py-to-exe\n",
    "!pip install psycopg"
   ]
  },
  {
   "cell_type": "code",
   "execution_count": 5,
   "metadata": {},
   "outputs": [],
   "source": [
    "import pandas as pd\n",
    "import psycopg\n",
    "from load_dotenv import load_dotenv\n",
    "import os\n",
    "from pathlib import Path"
   ]
  },
  {
   "cell_type": "code",
   "execution_count": 2,
   "metadata": {},
   "outputs": [],
   "source": [
    "load_dotenv()\n",
    "\n",
    "HOST = os.getenv(\"HOST\")\n",
    "USER = os.getenv(\"USER\")\n",
    "PASSWORD = os.getenv(\"PASSWORD\")\n",
    "DB = os.getenv(\"DB\")\n",
    "PORT = os.getenv(\"PORT\")\n",
    "\n"
   ]
  },
  {
   "cell_type": "code",
   "execution_count": 4,
   "metadata": {},
   "outputs": [
    {
     "name": "stdout",
     "output_type": "stream",
     "text": [
      "Conexão estabelecida com sucesso!\n"
     ]
    }
   ],
   "source": [
    "try:\n",
    "    connectDB = psycopg.connect(\n",
    "        host=HOST,\n",
    "        port=PORT,\n",
    "        dbname=DB,\n",
    "        user=USER,\n",
    "        password=PASSWORD\n",
    "    )\n",
    "\n",
    "    cursor = connectDB.cursor()\n",
    "\n",
    "    print(\"Conexão estabelecida com sucesso!\")\n",
    "\n",
    "except Exception as e:\n",
    "    print(f\"Erro ao conectar ao banco de dados: {e}\")\n"
   ]
  },
  {
   "cell_type": "code",
   "execution_count": 11,
   "metadata": {},
   "outputs": [],
   "source": [
    "cursor.execute(\n",
    "    \"\"\"\n",
    "        CREATE TABLE IF NOT EXISTS categoria (\n",
    "            id SERIAL PRIMARY KEY,\n",
    "            name VARCHAR(100) NOT NULL\n",
    "        );\n",
    "    \"\"\"\n",
    ")\n",
    "\n",
    "connectDB.commit()\n"
   ]
  },
  {
   "cell_type": "code",
   "execution_count": 12,
   "metadata": {},
   "outputs": [],
   "source": [
    "cursor.execute(\n",
    "    \"\"\"\n",
    "    TRUNCATE TABLE categoria;\n",
    "    \"\"\"\n",
    ")\n",
    "\n",
    "connectDB.commit()"
   ]
  },
  {
   "cell_type": "code",
   "execution_count": 7,
   "metadata": {},
   "outputs": [],
   "source": [
    "df = pd.read_excel(Path.cwd() / \"data\" / \"Categoria.xlsx\")"
   ]
  },
  {
   "cell_type": "code",
   "execution_count": 13,
   "metadata": {},
   "outputs": [],
   "source": [
    "for index, row in df.iterrows():\n",
    "    cursor.execute(\n",
    "        f\"\"\"\n",
    "            INSERT INTO categoria (name)\n",
    "            VALUES ('{row['name']}');\n",
    "        \"\"\"\n",
    "    )\n",
    "\n",
    "connectDB.commit()"
   ]
  },
  {
   "cell_type": "code",
   "execution_count": 14,
   "metadata": {},
   "outputs": [],
   "source": [
    "cursor.close()\n",
    "connectDB.close()"
   ]
  },
  {
   "cell_type": "markdown",
   "metadata": {},
   "source": [
    "To use the `pyinstaller` runs the following command:\n",
    "\n",
    "```bash\n",
    "pyinstaller --onefile --noconsole \"PATH TO SCRIPT\"\n",
    "```\n",
    "\n",
    "Make sure that all dependencies, like .env file, are in the same directory as the script.\n",
    "\n",
    "Also it's possible to use `auto-py-to-exe` to convert the script to an executable file. It's a GUI tool that makes the process easier."
   ]
  }
 ],
 "metadata": {
  "kernelspec": {
   "display_name": ".venv",
   "language": "python",
   "name": "python3"
  },
  "language_info": {
   "codemirror_mode": {
    "name": "ipython",
    "version": 3
   },
   "file_extension": ".py",
   "mimetype": "text/x-python",
   "name": "python",
   "nbconvert_exporter": "python",
   "pygments_lexer": "ipython3",
   "version": "3.12.3"
  }
 },
 "nbformat": 4,
 "nbformat_minor": 2
}
