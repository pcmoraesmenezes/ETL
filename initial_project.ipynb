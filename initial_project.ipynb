{
 "cells": [
  {
   "cell_type": "markdown",
   "metadata": {},
   "source": [
    "# Getting started with ETL"
   ]
  },
  {
   "cell_type": "markdown",
   "metadata": {},
   "source": [
    "**ETL** stands for **Extract, Transform, Load**. It is a data integration process used to collect data from multiple sources, clean and transform the data into a proper format, and load it into a target system, such as a data warehouse or database.\n",
    "\n",
    "## ETL Process Breakdown\n",
    "\n",
    "1. **Extract**:\n",
    "   The first step involves extracting data from various sources, such as databases, APIs, or files (e.g., CSV, JSON). The goal is to retrieve the raw data needed for analysis.\n",
    "\n",
    "2. **Transform**:\n",
    "   In this stage, the extracted data is cleaned, formatted, and transformed to ensure consistency and usability. Transformations might include:\n",
    "   - Handling missing or null values\n",
    "   - Standardizing data formats (e.g., date formats, currencies)\n",
    "   - Aggregating data or performing calculations\n",
    "   - Merging data from multiple sources\n",
    "\n",
    "3. **Load**:\n",
    "   The final step is loading the transformed data into a target system, such as a data warehouse (e.g., Amazon Redshift, Google BigQuery) or database. This makes the data ready for reporting, analytics, or use by machine learning models.\n",
    "\n",
    "## Why ETL?\n",
    "\n",
    "ETL automates the process of collecting, processing, and storing data, ensuring that clean and consistent data is always available for decision-making. This process is essential for businesses that need to handle large volumes of data from multiple sources efficiently and consistently.\n",
    "\n",
    "## Example\n",
    "\n",
    "Imagine a retail company that wants to combine data from its online store, physical store, and customer service platform. ETL would:\n",
    "1. **Extract** sales data from the online and physical store databases and customer feedback from the service platform.\n",
    "2. **Transform** the data to standardize currencies, clean any missing values, and ensure all timestamps use the same format.\n",
    "3. **Load** the consolidated data into a centralized database, ready for analysis.\n",
    "\n",
    "By automating ETL, the company ensures that its data is always up-to-date and ready for reporting and analytics."
   ]
  },
  {
   "cell_type": "markdown",
   "metadata": {},
   "source": [
    "---\n",
    "\n",
    "# First Impressions\n",
    "\n",
    "In the code below is shown a simple example of how to connect with the google-cloud bigquery and extract data from a table."
   ]
  },
  {
   "cell_type": "code",
   "execution_count": null,
   "metadata": {},
   "outputs": [],
   "source": [
    "!pip install google-cloud-bigquery\n",
    "!pip install --upgrade google-cloud-bigquery\n",
    "!pip install pandas_gbq\n",
    "!pip install pandas\n",
    "!pip install load_dotenv\n",
    "!pip install openpyxl\n",
    "!pip install google-cloud-bigquery-storage\n"
   ]
  },
  {
   "cell_type": "markdown",
   "metadata": {},
   "source": [
    "## Step 1: Install the BigQuery Library"
   ]
  },
  {
   "cell_type": "code",
   "execution_count": 5,
   "metadata": {},
   "outputs": [],
   "source": [
    "from google.cloud import bigquery\n",
    "import pandas as pd\n",
    "from load_dotenv import load_dotenv\n",
    "import os"
   ]
  },
  {
   "cell_type": "markdown",
   "metadata": {},
   "source": [
    "## Step 2: Authenticate with Google Cloud and Get the .env file"
   ]
  },
  {
   "cell_type": "code",
   "execution_count": 6,
   "metadata": {},
   "outputs": [],
   "source": [
    "load_dotenv()\n",
    "\n",
    "FIRST_PROJECT = os.getenv('FIRST_PROJECT')\n",
    "\n",
    "credential = 'key.json'\n",
    "client = bigquery.Client.from_service_account_json(credential)"
   ]
  },
  {
   "cell_type": "markdown",
   "metadata": {},
   "source": [
    "## Step 3: Load Data from BigQuery"
   ]
  },
  {
   "cell_type": "code",
   "execution_count": 7,
   "metadata": {},
   "outputs": [
    {
     "data": {
      "text/html": [
       "<div>\n",
       "<style scoped>\n",
       "    .dataframe tbody tr th:only-of-type {\n",
       "        vertical-align: middle;\n",
       "    }\n",
       "\n",
       "    .dataframe tbody tr th {\n",
       "        vertical-align: top;\n",
       "    }\n",
       "\n",
       "    .dataframe thead th {\n",
       "        text-align: right;\n",
       "    }\n",
       "</style>\n",
       "<table border=\"1\" class=\"dataframe\">\n",
       "  <thead>\n",
       "    <tr style=\"text-align: right;\">\n",
       "      <th></th>\n",
       "      <th>id</th>\n",
       "      <th>created_at</th>\n",
       "      <th>first_name</th>\n",
       "      <th>last_name</th>\n",
       "      <th>email</th>\n",
       "      <th>cell_phone</th>\n",
       "      <th>country</th>\n",
       "      <th>state</th>\n",
       "      <th>street</th>\n",
       "      <th>number</th>\n",
       "      <th>additionals</th>\n",
       "    </tr>\n",
       "  </thead>\n",
       "  <tbody>\n",
       "    <tr>\n",
       "      <th>0</th>\n",
       "      <td>36</td>\n",
       "      <td>2018-01-26 03:29:13+00:00</td>\n",
       "      <td>Mariana</td>\n",
       "      <td>Góes</td>\n",
       "      <td>mariana@meu_email.com</td>\n",
       "      <td>9 7324-4293</td>\n",
       "      <td>Brasil</td>\n",
       "      <td>None</td>\n",
       "      <td>None</td>\n",
       "      <td>NaN</td>\n",
       "      <td>Apto 25</td>\n",
       "    </tr>\n",
       "    <tr>\n",
       "      <th>1</th>\n",
       "      <td>73</td>\n",
       "      <td>2018-02-03 07:37:38+00:00</td>\n",
       "      <td>Cristiano</td>\n",
       "      <td>Almeida</td>\n",
       "      <td>cristiano@usuario.com</td>\n",
       "      <td>9 2630-9907</td>\n",
       "      <td>Brasil</td>\n",
       "      <td>None</td>\n",
       "      <td>None</td>\n",
       "      <td>NaN</td>\n",
       "      <td>Conjunto 24</td>\n",
       "    </tr>\n",
       "    <tr>\n",
       "      <th>2</th>\n",
       "      <td>84</td>\n",
       "      <td>2018-11-01 15:39:40+00:00</td>\n",
       "      <td>Carol</td>\n",
       "      <td>Bueno</td>\n",
       "      <td>carol@meu_email.com</td>\n",
       "      <td>9 3760-2211</td>\n",
       "      <td>Brasil</td>\n",
       "      <td>None</td>\n",
       "      <td>None</td>\n",
       "      <td>NaN</td>\n",
       "      <td>Conjunto 26</td>\n",
       "    </tr>\n",
       "    <tr>\n",
       "      <th>3</th>\n",
       "      <td>95</td>\n",
       "      <td>2018-10-01 11:35:59+00:00</td>\n",
       "      <td>Mariana</td>\n",
       "      <td>Rosa</td>\n",
       "      <td>mariana@usuario.com</td>\n",
       "      <td>9 3139-2145</td>\n",
       "      <td>Brasil</td>\n",
       "      <td>None</td>\n",
       "      <td>None</td>\n",
       "      <td>NaN</td>\n",
       "      <td>None</td>\n",
       "    </tr>\n",
       "    <tr>\n",
       "      <th>4</th>\n",
       "      <td>0</td>\n",
       "      <td>2017-11-01 14:45:41+00:00</td>\n",
       "      <td>Marta</td>\n",
       "      <td>Jesus</td>\n",
       "      <td>None</td>\n",
       "      <td>9 9102-7834</td>\n",
       "      <td>Brasil</td>\n",
       "      <td>Acre</td>\n",
       "      <td>None</td>\n",
       "      <td>NaN</td>\n",
       "      <td>Conjunto 16</td>\n",
       "    </tr>\n",
       "  </tbody>\n",
       "</table>\n",
       "</div>"
      ],
      "text/plain": [
       "   id                created_at first_name last_name                  email  \\\n",
       "0  36 2018-01-26 03:29:13+00:00    Mariana      Góes  mariana@meu_email.com   \n",
       "1  73 2018-02-03 07:37:38+00:00  Cristiano   Almeida  cristiano@usuario.com   \n",
       "2  84 2018-11-01 15:39:40+00:00      Carol     Bueno    carol@meu_email.com   \n",
       "3  95 2018-10-01 11:35:59+00:00    Mariana      Rosa    mariana@usuario.com   \n",
       "4   0 2017-11-01 14:45:41+00:00      Marta     Jesus                   None   \n",
       "\n",
       "    cell_phone country state street  number  additionals  \n",
       "0  9 7324-4293  Brasil  None   None     NaN      Apto 25  \n",
       "1  9 2630-9907  Brasil  None   None     NaN  Conjunto 24  \n",
       "2  9 3760-2211  Brasil  None   None     NaN  Conjunto 26  \n",
       "3  9 3139-2145  Brasil  None   None     NaN         None  \n",
       "4  9 9102-7834  Brasil  Acre   None     NaN  Conjunto 16  "
      ]
     },
     "execution_count": 7,
     "metadata": {},
     "output_type": "execute_result"
    }
   ],
   "source": [
    "query = f\"\"\"\n",
    "SELECT * FROM `{FIRST_PROJECT}`\n",
    "\"\"\"\n",
    "\n",
    "result = client.query(query)\n",
    "df = result.to_dataframe()\n",
    "\n",
    "df.head()"
   ]
  },
  {
   "cell_type": "markdown",
   "metadata": {},
   "source": [
    "---\n",
    "\n",
    "## How to transfer data locally to BigQuery"
   ]
  },
  {
   "cell_type": "code",
   "execution_count": 8,
   "metadata": {},
   "outputs": [],
   "source": [
    "import pandas as pd\n",
    "from google.cloud import bigquery\n",
    "from google.oauth2 import service_account\n",
    "import pandas_gbq as pd_gbq"
   ]
  },
  {
   "cell_type": "code",
   "execution_count": 9,
   "metadata": {},
   "outputs": [],
   "source": [
    "credentials = service_account.Credentials.from_service_account_file('key.json')"
   ]
  },
  {
   "cell_type": "code",
   "execution_count": 10,
   "metadata": {},
   "outputs": [],
   "source": [
    "df = pd.read_excel('data/Produto.xlsx')"
   ]
  },
  {
   "cell_type": "code",
   "execution_count": 11,
   "metadata": {},
   "outputs": [
    {
     "data": {
      "text/html": [
       "<div>\n",
       "<style scoped>\n",
       "    .dataframe tbody tr th:only-of-type {\n",
       "        vertical-align: middle;\n",
       "    }\n",
       "\n",
       "    .dataframe tbody tr th {\n",
       "        vertical-align: top;\n",
       "    }\n",
       "\n",
       "    .dataframe thead th {\n",
       "        text-align: right;\n",
       "    }\n",
       "</style>\n",
       "<table border=\"1\" class=\"dataframe\">\n",
       "  <thead>\n",
       "    <tr style=\"text-align: right;\">\n",
       "      <th></th>\n",
       "      <th>ID</th>\n",
       "      <th>Name</th>\n",
       "      <th>Price</th>\n",
       "      <th>Id_Category</th>\n",
       "    </tr>\n",
       "  </thead>\n",
       "  <tbody>\n",
       "    <tr>\n",
       "      <th>0</th>\n",
       "      <td>0</td>\n",
       "      <td>Sapato vermelho</td>\n",
       "      <td>96</td>\n",
       "      <td>0</td>\n",
       "    </tr>\n",
       "    <tr>\n",
       "      <th>1</th>\n",
       "      <td>1</td>\n",
       "      <td>Bolsa mais que Velha</td>\n",
       "      <td>8000</td>\n",
       "      <td>0</td>\n",
       "    </tr>\n",
       "    <tr>\n",
       "      <th>2</th>\n",
       "      <td>2</td>\n",
       "      <td>Calça</td>\n",
       "      <td>75</td>\n",
       "      <td>0</td>\n",
       "    </tr>\n",
       "    <tr>\n",
       "      <th>3</th>\n",
       "      <td>3</td>\n",
       "      <td>Camisa apertadinha</td>\n",
       "      <td>170</td>\n",
       "      <td>0</td>\n",
       "    </tr>\n",
       "    <tr>\n",
       "      <th>4</th>\n",
       "      <td>4</td>\n",
       "      <td>Vestido Super curto</td>\n",
       "      <td>57</td>\n",
       "      <td>0</td>\n",
       "    </tr>\n",
       "  </tbody>\n",
       "</table>\n",
       "</div>"
      ],
      "text/plain": [
       "   ID                  Name  Price  Id_Category\n",
       "0   0       Sapato vermelho     96            0\n",
       "1   1  Bolsa mais que Velha   8000            0\n",
       "2   2                 Calça     75            0\n",
       "3   3    Camisa apertadinha    170            0\n",
       "4   4   Vestido Super curto     57            0"
      ]
     },
     "execution_count": 11,
     "metadata": {},
     "output_type": "execute_result"
    }
   ],
   "source": [
    "df.head()"
   ]
  },
  {
   "cell_type": "code",
   "execution_count": 12,
   "metadata": {},
   "outputs": [],
   "source": [
    "load_dotenv()\n",
    "SEND = os.getenv('SEND_DATA')\n",
    "PROJECT_ID = os.getenv('PROJECT_ID')"
   ]
  },
  {
   "cell_type": "code",
   "execution_count": 13,
   "metadata": {},
   "outputs": [],
   "source": [
    "pd_gbq.to_gbq(\n",
    "    df,\n",
    "    destination_table=SEND,\n",
    "    project_id = PROJECT_ID,\n",
    "    if_exists = 'replace',\n",
    "    credentials=credentials\n",
    ")"
   ]
  },
  {
   "cell_type": "markdown",
   "metadata": {},
   "source": [
    "---\n",
    "\n",
    "# Dealing with more than one table"
   ]
  },
  {
   "cell_type": "code",
   "execution_count": 14,
   "metadata": {},
   "outputs": [],
   "source": [
    "products = pd.read_excel('data/Produto.xlsx')\n",
    "itens = pd.read_excel('data/items.xlsx')\n",
    "order = pd.read_excel('data/Ordens.xlsx')\n",
    "category = pd.read_excel('data/Categoria.xlsx')\n",
    "clients = pd.read_csv('data/Clientes.csv')"
   ]
  },
  {
   "cell_type": "code",
   "execution_count": 15,
   "metadata": {},
   "outputs": [
    {
     "name": "stdout",
     "output_type": "stream",
     "text": [
      "Products:\n",
      "    ID                  Name  Price  Id_Category\n",
      "0   0       Sapato vermelho     96            0\n",
      "1   1  Bolsa mais que Velha   8000            0\n",
      "\n",
      " Itens:\n",
      "    id  order_id  product_id  quantity  total_price\n",
      "0   0      7019          28         1          186\n",
      "1   1      8827          29         1          110\n",
      "\n",
      " Order:\n",
      "    id          created_at  customer_id    status\n",
      "0   0 2019-08-28 03:36:31           91  entregue\n",
      "1   1 2019-08-16 20:21:30            7  entregue\n",
      "\n",
      " Category:\n",
      "    id                     name\n",
      "0   0        Moda e Acessórios\n",
      "1   1  Cosméticos e Perfumaria\n",
      "\n",
      " Clients:\n",
      "    id           created_at first_name last_name email   cell_phone country  \\\n",
      "0   0  2017-11-01 14:45:41      Marta     Jesus   NaN  9 9102-7834  Brasil   \n",
      "1   1  2017-10-16 00:50:39      Luana   Almeida   NaN  9 7328-8718  Brasil   \n",
      "\n",
      "               state                                  street  number  \\\n",
      "0               Acre                                     NaN     NaN   \n",
      "1  Rio Grande do Sul  Avenida 56 do Estado Rio Grande do Sul   989.0   \n",
      "\n",
      "   additionals  \n",
      "0  Conjunto 16  \n",
      "1  Conjunto 17  \n"
     ]
    }
   ],
   "source": [
    "print(f'Products:\\n {products.head(2)}\\n\\n Itens:\\n {itens.head(2)}\\n\\n Order:\\n {order.head(2)}\\n\\n Category:\\n {category.head(2)}\\n\\n Clients:\\n {clients.head(2)}')"
   ]
  },
  {
   "cell_type": "markdown",
   "metadata": {},
   "source": [
    "## Creating a dataset with client connection"
   ]
  },
  {
   "cell_type": "code",
   "execution_count": 16,
   "metadata": {},
   "outputs": [],
   "source": [
    "load_dotenv()\n",
    "DATASET_ID = os.getenv('DATASET_ID')"
   ]
  },
  {
   "cell_type": "code",
   "execution_count": 17,
   "metadata": {},
   "outputs": [],
   "source": [
    "dataset_id = f'{PROJECT_ID}.{DATASET_ID}'\n",
    "dataset = bigquery.Dataset(dataset_id)\n",
    "\n",
    "dataset.location = 'US'\n",
    "\n",
    "dataset = client.create_dataset(dataset, exists_ok=True)"
   ]
  },
  {
   "cell_type": "markdown",
   "metadata": {},
   "source": [
    "---"
   ]
  },
  {
   "cell_type": "code",
   "execution_count": 18,
   "metadata": {},
   "outputs": [],
   "source": [
    "credential = service_account.Credentials.from_service_account_file('key.json')"
   ]
  },
  {
   "cell_type": "code",
   "execution_count": 19,
   "metadata": {},
   "outputs": [],
   "source": [
    "table_names = ['products', 'itens', 'order', 'category', 'clients']\n",
    "\n",
    "for table, name in zip([products, itens, order, category, clients], table_names):\n",
    "    pd_gbq.to_gbq(\n",
    "        table,\n",
    "        f'{PROJECT_ID}.{DATASET_ID}.{name}',\n",
    "        project_id=PROJECT_ID,\n",
    "        if_exists='replace',\n",
    "        credentials=credential\n",
    "    )\n"
   ]
  },
  {
   "cell_type": "markdown",
   "metadata": {},
   "source": [
    "---\n",
    "\n",
    "# Pulling data from multiple tables"
   ]
  },
  {
   "cell_type": "code",
   "execution_count": 20,
   "metadata": {},
   "outputs": [],
   "source": [
    "from google.cloud import bigquery\n",
    "import pandas"
   ]
  },
  {
   "cell_type": "code",
   "execution_count": 21,
   "metadata": {},
   "outputs": [],
   "source": [
    "credential = 'key.json'\n",
    "client = bigquery.Client.from_service_account_json(credential)"
   ]
  },
  {
   "cell_type": "code",
   "execution_count": 22,
   "metadata": {},
   "outputs": [],
   "source": [
    "tables = ['products', 'itens', 'order', 'category', 'clients']\n",
    "dfs = {}"
   ]
  },
  {
   "cell_type": "code",
   "execution_count": 23,
   "metadata": {},
   "outputs": [],
   "source": [
    "for table in tables:\n",
    "    query = f\"\"\"\n",
    "    SELECT * FROM `{PROJECT_ID}.{DATASET_ID}.{table}`\n",
    "    \"\"\"\n",
    "    result = client.query(query)\n",
    "    df = result.to_dataframe()\n",
    "    dfs[table] = df"
   ]
  },
  {
   "cell_type": "code",
   "execution_count": 24,
   "metadata": {},
   "outputs": [
    {
     "data": {
      "text/plain": [
       "dict_keys(['products', 'itens', 'order', 'category', 'clients'])"
      ]
     },
     "execution_count": 24,
     "metadata": {},
     "output_type": "execute_result"
    }
   ],
   "source": [
    "dfs.keys()"
   ]
  },
  {
   "cell_type": "code",
   "execution_count": 25,
   "metadata": {},
   "outputs": [
    {
     "data": {
      "text/html": [
       "<div>\n",
       "<style scoped>\n",
       "    .dataframe tbody tr th:only-of-type {\n",
       "        vertical-align: middle;\n",
       "    }\n",
       "\n",
       "    .dataframe tbody tr th {\n",
       "        vertical-align: top;\n",
       "    }\n",
       "\n",
       "    .dataframe thead th {\n",
       "        text-align: right;\n",
       "    }\n",
       "</style>\n",
       "<table border=\"1\" class=\"dataframe\">\n",
       "  <thead>\n",
       "    <tr style=\"text-align: right;\">\n",
       "      <th></th>\n",
       "      <th>ID</th>\n",
       "      <th>Name</th>\n",
       "      <th>Price</th>\n",
       "      <th>Id_Category</th>\n",
       "    </tr>\n",
       "  </thead>\n",
       "  <tbody>\n",
       "    <tr>\n",
       "      <th>0</th>\n",
       "      <td>0</td>\n",
       "      <td>Sapato vermelho</td>\n",
       "      <td>96</td>\n",
       "      <td>0</td>\n",
       "    </tr>\n",
       "    <tr>\n",
       "      <th>1</th>\n",
       "      <td>1</td>\n",
       "      <td>Bolsa mais que Velha</td>\n",
       "      <td>8000</td>\n",
       "      <td>0</td>\n",
       "    </tr>\n",
       "    <tr>\n",
       "      <th>2</th>\n",
       "      <td>2</td>\n",
       "      <td>Calça</td>\n",
       "      <td>75</td>\n",
       "      <td>0</td>\n",
       "    </tr>\n",
       "    <tr>\n",
       "      <th>3</th>\n",
       "      <td>3</td>\n",
       "      <td>Camisa apertadinha</td>\n",
       "      <td>170</td>\n",
       "      <td>0</td>\n",
       "    </tr>\n",
       "    <tr>\n",
       "      <th>4</th>\n",
       "      <td>4</td>\n",
       "      <td>Vestido Super curto</td>\n",
       "      <td>57</td>\n",
       "      <td>0</td>\n",
       "    </tr>\n",
       "  </tbody>\n",
       "</table>\n",
       "</div>"
      ],
      "text/plain": [
       "   ID                  Name  Price  Id_Category\n",
       "0   0       Sapato vermelho     96            0\n",
       "1   1  Bolsa mais que Velha   8000            0\n",
       "2   2                 Calça     75            0\n",
       "3   3    Camisa apertadinha    170            0\n",
       "4   4   Vestido Super curto     57            0"
      ]
     },
     "execution_count": 25,
     "metadata": {},
     "output_type": "execute_result"
    }
   ],
   "source": [
    "dfs['products'].head()"
   ]
  },
  {
   "cell_type": "code",
   "execution_count": 26,
   "metadata": {},
   "outputs": [
    {
     "data": {
      "text/html": [
       "<div>\n",
       "<style scoped>\n",
       "    .dataframe tbody tr th:only-of-type {\n",
       "        vertical-align: middle;\n",
       "    }\n",
       "\n",
       "    .dataframe tbody tr th {\n",
       "        vertical-align: top;\n",
       "    }\n",
       "\n",
       "    .dataframe thead th {\n",
       "        text-align: right;\n",
       "    }\n",
       "</style>\n",
       "<table border=\"1\" class=\"dataframe\">\n",
       "  <thead>\n",
       "    <tr style=\"text-align: right;\">\n",
       "      <th></th>\n",
       "      <th>id</th>\n",
       "      <th>created_at</th>\n",
       "      <th>customer_id</th>\n",
       "      <th>status</th>\n",
       "    </tr>\n",
       "  </thead>\n",
       "  <tbody>\n",
       "    <tr>\n",
       "      <th>0</th>\n",
       "      <td>363</td>\n",
       "      <td>2019-10-30 11:47:36+00:00</td>\n",
       "      <td>0</td>\n",
       "      <td>carrinho</td>\n",
       "    </tr>\n",
       "    <tr>\n",
       "      <th>1</th>\n",
       "      <td>489</td>\n",
       "      <td>2019-02-20 04:18:16+00:00</td>\n",
       "      <td>0</td>\n",
       "      <td>carrinho</td>\n",
       "    </tr>\n",
       "    <tr>\n",
       "      <th>2</th>\n",
       "      <td>1799</td>\n",
       "      <td>2019-07-20 09:39:59+00:00</td>\n",
       "      <td>0</td>\n",
       "      <td>carrinho</td>\n",
       "    </tr>\n",
       "    <tr>\n",
       "      <th>3</th>\n",
       "      <td>2068</td>\n",
       "      <td>2019-09-08 05:02:58+00:00</td>\n",
       "      <td>0</td>\n",
       "      <td>carrinho</td>\n",
       "    </tr>\n",
       "    <tr>\n",
       "      <th>4</th>\n",
       "      <td>2405</td>\n",
       "      <td>2019-06-17 22:27:25+00:00</td>\n",
       "      <td>0</td>\n",
       "      <td>carrinho</td>\n",
       "    </tr>\n",
       "  </tbody>\n",
       "</table>\n",
       "</div>"
      ],
      "text/plain": [
       "     id                created_at  customer_id    status\n",
       "0   363 2019-10-30 11:47:36+00:00            0  carrinho\n",
       "1   489 2019-02-20 04:18:16+00:00            0  carrinho\n",
       "2  1799 2019-07-20 09:39:59+00:00            0  carrinho\n",
       "3  2068 2019-09-08 05:02:58+00:00            0  carrinho\n",
       "4  2405 2019-06-17 22:27:25+00:00            0  carrinho"
      ]
     },
     "execution_count": 26,
     "metadata": {},
     "output_type": "execute_result"
    }
   ],
   "source": [
    "dfs['order'].head()"
   ]
  },
  {
   "cell_type": "code",
   "execution_count": 27,
   "metadata": {},
   "outputs": [],
   "source": [
    "dfs['order']['created_at'] = dfs['order']['created_at'].dt.tz_convert(None)"
   ]
  },
  {
   "cell_type": "code",
   "execution_count": 28,
   "metadata": {},
   "outputs": [
    {
     "data": {
      "text/html": [
       "<div>\n",
       "<style scoped>\n",
       "    .dataframe tbody tr th:only-of-type {\n",
       "        vertical-align: middle;\n",
       "    }\n",
       "\n",
       "    .dataframe tbody tr th {\n",
       "        vertical-align: top;\n",
       "    }\n",
       "\n",
       "    .dataframe thead th {\n",
       "        text-align: right;\n",
       "    }\n",
       "</style>\n",
       "<table border=\"1\" class=\"dataframe\">\n",
       "  <thead>\n",
       "    <tr style=\"text-align: right;\">\n",
       "      <th></th>\n",
       "      <th>id</th>\n",
       "      <th>created_at</th>\n",
       "      <th>customer_id</th>\n",
       "      <th>status</th>\n",
       "    </tr>\n",
       "  </thead>\n",
       "  <tbody>\n",
       "    <tr>\n",
       "      <th>0</th>\n",
       "      <td>363</td>\n",
       "      <td>2019-10-30 11:47:36</td>\n",
       "      <td>0</td>\n",
       "      <td>carrinho</td>\n",
       "    </tr>\n",
       "    <tr>\n",
       "      <th>1</th>\n",
       "      <td>489</td>\n",
       "      <td>2019-02-20 04:18:16</td>\n",
       "      <td>0</td>\n",
       "      <td>carrinho</td>\n",
       "    </tr>\n",
       "    <tr>\n",
       "      <th>2</th>\n",
       "      <td>1799</td>\n",
       "      <td>2019-07-20 09:39:59</td>\n",
       "      <td>0</td>\n",
       "      <td>carrinho</td>\n",
       "    </tr>\n",
       "    <tr>\n",
       "      <th>3</th>\n",
       "      <td>2068</td>\n",
       "      <td>2019-09-08 05:02:58</td>\n",
       "      <td>0</td>\n",
       "      <td>carrinho</td>\n",
       "    </tr>\n",
       "    <tr>\n",
       "      <th>4</th>\n",
       "      <td>2405</td>\n",
       "      <td>2019-06-17 22:27:25</td>\n",
       "      <td>0</td>\n",
       "      <td>carrinho</td>\n",
       "    </tr>\n",
       "  </tbody>\n",
       "</table>\n",
       "</div>"
      ],
      "text/plain": [
       "     id          created_at  customer_id    status\n",
       "0   363 2019-10-30 11:47:36            0  carrinho\n",
       "1   489 2019-02-20 04:18:16            0  carrinho\n",
       "2  1799 2019-07-20 09:39:59            0  carrinho\n",
       "3  2068 2019-09-08 05:02:58            0  carrinho\n",
       "4  2405 2019-06-17 22:27:25            0  carrinho"
      ]
     },
     "execution_count": 28,
     "metadata": {},
     "output_type": "execute_result"
    }
   ],
   "source": [
    "dfs['order'].head()"
   ]
  },
  {
   "cell_type": "markdown",
   "metadata": {},
   "source": [
    "# Filtering data"
   ]
  },
  {
   "cell_type": "code",
   "execution_count": 73,
   "metadata": {},
   "outputs": [],
   "source": [
    "import pandas as pd\n",
    "from google.cloud import bigquery\n",
    "from google.oauth2 import service_account\n",
    "import pandas_gbq as pd_gbq\n",
    "from datetime import datetime"
   ]
  },
  {
   "cell_type": "code",
   "execution_count": 74,
   "metadata": {},
   "outputs": [],
   "source": [
    "df = pd.read_excel('data/Ordens.xlsx')"
   ]
  },
  {
   "cell_type": "code",
   "execution_count": 75,
   "metadata": {},
   "outputs": [
    {
     "name": "stdout",
     "output_type": "stream",
     "text": [
      "id                      int64\n",
      "created_at     datetime64[ns]\n",
      "customer_id             int64\n",
      "status                 object\n",
      "dtype: object\n"
     ]
    }
   ],
   "source": [
    "print(df.dtypes)"
   ]
  },
  {
   "cell_type": "code",
   "execution_count": 76,
   "metadata": {},
   "outputs": [],
   "source": [
    "df['created_at'] = pd.to_datetime(df['created_at']).dt.tz_localize(None)\n",
    "\n",
    "# ns\n",
    "\n",
    "df['created_at'] = df['created_at'].dt.strftime('%Y-%m-%d')\n",
    "df['created_at'] = pd.to_datetime(df['created_at'])"
   ]
  },
  {
   "cell_type": "code",
   "execution_count": 77,
   "metadata": {},
   "outputs": [
    {
     "data": {
      "text/html": [
       "<div>\n",
       "<style scoped>\n",
       "    .dataframe tbody tr th:only-of-type {\n",
       "        vertical-align: middle;\n",
       "    }\n",
       "\n",
       "    .dataframe tbody tr th {\n",
       "        vertical-align: top;\n",
       "    }\n",
       "\n",
       "    .dataframe thead th {\n",
       "        text-align: right;\n",
       "    }\n",
       "</style>\n",
       "<table border=\"1\" class=\"dataframe\">\n",
       "  <thead>\n",
       "    <tr style=\"text-align: right;\">\n",
       "      <th></th>\n",
       "      <th>id</th>\n",
       "      <th>created_at</th>\n",
       "      <th>customer_id</th>\n",
       "      <th>status</th>\n",
       "    </tr>\n",
       "  </thead>\n",
       "  <tbody>\n",
       "    <tr>\n",
       "      <th>0</th>\n",
       "      <td>0</td>\n",
       "      <td>2019-08-28</td>\n",
       "      <td>91</td>\n",
       "      <td>entregue</td>\n",
       "    </tr>\n",
       "    <tr>\n",
       "      <th>1</th>\n",
       "      <td>1</td>\n",
       "      <td>2019-08-16</td>\n",
       "      <td>7</td>\n",
       "      <td>entregue</td>\n",
       "    </tr>\n",
       "    <tr>\n",
       "      <th>2</th>\n",
       "      <td>2</td>\n",
       "      <td>2019-07-11</td>\n",
       "      <td>26</td>\n",
       "      <td>pagamento_pendente</td>\n",
       "    </tr>\n",
       "    <tr>\n",
       "      <th>3</th>\n",
       "      <td>3</td>\n",
       "      <td>2019-08-27</td>\n",
       "      <td>92</td>\n",
       "      <td>pagamento_pendente</td>\n",
       "    </tr>\n",
       "    <tr>\n",
       "      <th>4</th>\n",
       "      <td>4</td>\n",
       "      <td>2019-11-03</td>\n",
       "      <td>63</td>\n",
       "      <td>entrega_pendente</td>\n",
       "    </tr>\n",
       "    <tr>\n",
       "      <th>...</th>\n",
       "      <td>...</td>\n",
       "      <td>...</td>\n",
       "      <td>...</td>\n",
       "      <td>...</td>\n",
       "    </tr>\n",
       "    <tr>\n",
       "      <th>9995</th>\n",
       "      <td>9995</td>\n",
       "      <td>2020-01-28</td>\n",
       "      <td>0</td>\n",
       "      <td>entrega_pendente</td>\n",
       "    </tr>\n",
       "    <tr>\n",
       "      <th>9996</th>\n",
       "      <td>9996</td>\n",
       "      <td>2019-05-08</td>\n",
       "      <td>58</td>\n",
       "      <td>carrinho</td>\n",
       "    </tr>\n",
       "    <tr>\n",
       "      <th>9997</th>\n",
       "      <td>9997</td>\n",
       "      <td>2019-04-08</td>\n",
       "      <td>6</td>\n",
       "      <td>entregue</td>\n",
       "    </tr>\n",
       "    <tr>\n",
       "      <th>9998</th>\n",
       "      <td>9998</td>\n",
       "      <td>2019-04-18</td>\n",
       "      <td>50</td>\n",
       "      <td>pagamento_pendente</td>\n",
       "    </tr>\n",
       "    <tr>\n",
       "      <th>9999</th>\n",
       "      <td>9999</td>\n",
       "      <td>2020-01-18</td>\n",
       "      <td>54</td>\n",
       "      <td>pagamento_pendente</td>\n",
       "    </tr>\n",
       "  </tbody>\n",
       "</table>\n",
       "<p>10000 rows × 4 columns</p>\n",
       "</div>"
      ],
      "text/plain": [
       "        id created_at  customer_id              status\n",
       "0        0 2019-08-28           91            entregue\n",
       "1        1 2019-08-16            7            entregue\n",
       "2        2 2019-07-11           26  pagamento_pendente\n",
       "3        3 2019-08-27           92  pagamento_pendente\n",
       "4        4 2019-11-03           63    entrega_pendente\n",
       "...    ...        ...          ...                 ...\n",
       "9995  9995 2020-01-28            0    entrega_pendente\n",
       "9996  9996 2019-05-08           58            carrinho\n",
       "9997  9997 2019-04-08            6            entregue\n",
       "9998  9998 2019-04-18           50  pagamento_pendente\n",
       "9999  9999 2020-01-18           54  pagamento_pendente\n",
       "\n",
       "[10000 rows x 4 columns]"
      ]
     },
     "execution_count": 77,
     "metadata": {},
     "output_type": "execute_result"
    }
   ],
   "source": [
    "df"
   ]
  },
  {
   "cell_type": "code",
   "execution_count": 88,
   "metadata": {},
   "outputs": [
    {
     "name": "stdout",
     "output_type": "stream",
     "text": [
      "Current Month: 9\n",
      "Current Year: 2019\n"
     ]
    }
   ],
   "source": [
    "today = datetime.now()\n",
    "\n",
    "current_month = today.month\n",
    "current_year = today.year - 5\n",
    "\n",
    "print(f'Current Month: {current_month}\\nCurrent Year: {current_year}')\n",
    "\n"
   ]
  },
  {
   "cell_type": "code",
   "execution_count": 89,
   "metadata": {},
   "outputs": [
    {
     "data": {
      "text/html": [
       "<div>\n",
       "<style scoped>\n",
       "    .dataframe tbody tr th:only-of-type {\n",
       "        vertical-align: middle;\n",
       "    }\n",
       "\n",
       "    .dataframe tbody tr th {\n",
       "        vertical-align: top;\n",
       "    }\n",
       "\n",
       "    .dataframe thead th {\n",
       "        text-align: right;\n",
       "    }\n",
       "</style>\n",
       "<table border=\"1\" class=\"dataframe\">\n",
       "  <thead>\n",
       "    <tr style=\"text-align: right;\">\n",
       "      <th></th>\n",
       "      <th>id</th>\n",
       "      <th>created_at</th>\n",
       "      <th>customer_id</th>\n",
       "      <th>status</th>\n",
       "    </tr>\n",
       "  </thead>\n",
       "  <tbody>\n",
       "    <tr>\n",
       "      <th>0</th>\n",
       "      <td>0</td>\n",
       "      <td>2019-08-28</td>\n",
       "      <td>91</td>\n",
       "      <td>entregue</td>\n",
       "    </tr>\n",
       "    <tr>\n",
       "      <th>1</th>\n",
       "      <td>1</td>\n",
       "      <td>2019-08-16</td>\n",
       "      <td>7</td>\n",
       "      <td>entregue</td>\n",
       "    </tr>\n",
       "    <tr>\n",
       "      <th>2</th>\n",
       "      <td>2</td>\n",
       "      <td>2019-07-11</td>\n",
       "      <td>26</td>\n",
       "      <td>pagamento_pendente</td>\n",
       "    </tr>\n",
       "    <tr>\n",
       "      <th>3</th>\n",
       "      <td>3</td>\n",
       "      <td>2019-08-27</td>\n",
       "      <td>92</td>\n",
       "      <td>pagamento_pendente</td>\n",
       "    </tr>\n",
       "    <tr>\n",
       "      <th>4</th>\n",
       "      <td>4</td>\n",
       "      <td>2019-11-03</td>\n",
       "      <td>63</td>\n",
       "      <td>entrega_pendente</td>\n",
       "    </tr>\n",
       "    <tr>\n",
       "      <th>...</th>\n",
       "      <td>...</td>\n",
       "      <td>...</td>\n",
       "      <td>...</td>\n",
       "      <td>...</td>\n",
       "    </tr>\n",
       "    <tr>\n",
       "      <th>9993</th>\n",
       "      <td>9993</td>\n",
       "      <td>2019-12-15</td>\n",
       "      <td>12</td>\n",
       "      <td>carrinho</td>\n",
       "    </tr>\n",
       "    <tr>\n",
       "      <th>9994</th>\n",
       "      <td>9994</td>\n",
       "      <td>2019-07-31</td>\n",
       "      <td>79</td>\n",
       "      <td>carrinho</td>\n",
       "    </tr>\n",
       "    <tr>\n",
       "      <th>9996</th>\n",
       "      <td>9996</td>\n",
       "      <td>2019-05-08</td>\n",
       "      <td>58</td>\n",
       "      <td>carrinho</td>\n",
       "    </tr>\n",
       "    <tr>\n",
       "      <th>9997</th>\n",
       "      <td>9997</td>\n",
       "      <td>2019-04-08</td>\n",
       "      <td>6</td>\n",
       "      <td>entregue</td>\n",
       "    </tr>\n",
       "    <tr>\n",
       "      <th>9998</th>\n",
       "      <td>9998</td>\n",
       "      <td>2019-04-18</td>\n",
       "      <td>50</td>\n",
       "      <td>pagamento_pendente</td>\n",
       "    </tr>\n",
       "  </tbody>\n",
       "</table>\n",
       "<p>8587 rows × 4 columns</p>\n",
       "</div>"
      ],
      "text/plain": [
       "        id created_at  customer_id              status\n",
       "0        0 2019-08-28           91            entregue\n",
       "1        1 2019-08-16            7            entregue\n",
       "2        2 2019-07-11           26  pagamento_pendente\n",
       "3        3 2019-08-27           92  pagamento_pendente\n",
       "4        4 2019-11-03           63    entrega_pendente\n",
       "...    ...        ...          ...                 ...\n",
       "9993  9993 2019-12-15           12            carrinho\n",
       "9994  9994 2019-07-31           79            carrinho\n",
       "9996  9996 2019-05-08           58            carrinho\n",
       "9997  9997 2019-04-08            6            entregue\n",
       "9998  9998 2019-04-18           50  pagamento_pendente\n",
       "\n",
       "[8587 rows x 4 columns]"
      ]
     },
     "execution_count": 89,
     "metadata": {},
     "output_type": "execute_result"
    }
   ],
   "source": [
    "df[df['created_at'].dt.year == current_year]"
   ]
  },
  {
   "cell_type": "code",
   "execution_count": 90,
   "metadata": {},
   "outputs": [
    {
     "data": {
      "text/html": [
       "<div>\n",
       "<style scoped>\n",
       "    .dataframe tbody tr th:only-of-type {\n",
       "        vertical-align: middle;\n",
       "    }\n",
       "\n",
       "    .dataframe tbody tr th {\n",
       "        vertical-align: top;\n",
       "    }\n",
       "\n",
       "    .dataframe thead th {\n",
       "        text-align: right;\n",
       "    }\n",
       "</style>\n",
       "<table border=\"1\" class=\"dataframe\">\n",
       "  <thead>\n",
       "    <tr style=\"text-align: right;\">\n",
       "      <th></th>\n",
       "      <th>id</th>\n",
       "      <th>created_at</th>\n",
       "      <th>customer_id</th>\n",
       "      <th>status</th>\n",
       "    </tr>\n",
       "  </thead>\n",
       "  <tbody>\n",
       "    <tr>\n",
       "      <th>18</th>\n",
       "      <td>18</td>\n",
       "      <td>2019-09-04</td>\n",
       "      <td>97</td>\n",
       "      <td>entregue</td>\n",
       "    </tr>\n",
       "    <tr>\n",
       "      <th>30</th>\n",
       "      <td>30</td>\n",
       "      <td>2019-09-15</td>\n",
       "      <td>30</td>\n",
       "      <td>entregue</td>\n",
       "    </tr>\n",
       "    <tr>\n",
       "      <th>52</th>\n",
       "      <td>52</td>\n",
       "      <td>2019-09-01</td>\n",
       "      <td>44</td>\n",
       "      <td>carrinho</td>\n",
       "    </tr>\n",
       "    <tr>\n",
       "      <th>58</th>\n",
       "      <td>58</td>\n",
       "      <td>2019-09-25</td>\n",
       "      <td>98</td>\n",
       "      <td>entrega_pendente</td>\n",
       "    </tr>\n",
       "    <tr>\n",
       "      <th>67</th>\n",
       "      <td>67</td>\n",
       "      <td>2019-09-22</td>\n",
       "      <td>29</td>\n",
       "      <td>entregue</td>\n",
       "    </tr>\n",
       "    <tr>\n",
       "      <th>...</th>\n",
       "      <td>...</td>\n",
       "      <td>...</td>\n",
       "      <td>...</td>\n",
       "      <td>...</td>\n",
       "    </tr>\n",
       "    <tr>\n",
       "      <th>9935</th>\n",
       "      <td>9935</td>\n",
       "      <td>2019-09-05</td>\n",
       "      <td>34</td>\n",
       "      <td>entregue</td>\n",
       "    </tr>\n",
       "    <tr>\n",
       "      <th>9947</th>\n",
       "      <td>9947</td>\n",
       "      <td>2019-09-14</td>\n",
       "      <td>35</td>\n",
       "      <td>carrinho</td>\n",
       "    </tr>\n",
       "    <tr>\n",
       "      <th>9969</th>\n",
       "      <td>9969</td>\n",
       "      <td>2019-09-15</td>\n",
       "      <td>84</td>\n",
       "      <td>carrinho</td>\n",
       "    </tr>\n",
       "    <tr>\n",
       "      <th>9975</th>\n",
       "      <td>9975</td>\n",
       "      <td>2019-09-25</td>\n",
       "      <td>88</td>\n",
       "      <td>entregue</td>\n",
       "    </tr>\n",
       "    <tr>\n",
       "      <th>9988</th>\n",
       "      <td>9988</td>\n",
       "      <td>2019-09-20</td>\n",
       "      <td>26</td>\n",
       "      <td>pagamento_pendente</td>\n",
       "    </tr>\n",
       "  </tbody>\n",
       "</table>\n",
       "<p>739 rows × 4 columns</p>\n",
       "</div>"
      ],
      "text/plain": [
       "        id created_at  customer_id              status\n",
       "18      18 2019-09-04           97            entregue\n",
       "30      30 2019-09-15           30            entregue\n",
       "52      52 2019-09-01           44            carrinho\n",
       "58      58 2019-09-25           98    entrega_pendente\n",
       "67      67 2019-09-22           29            entregue\n",
       "...    ...        ...          ...                 ...\n",
       "9935  9935 2019-09-05           34            entregue\n",
       "9947  9947 2019-09-14           35            carrinho\n",
       "9969  9969 2019-09-15           84            carrinho\n",
       "9975  9975 2019-09-25           88            entregue\n",
       "9988  9988 2019-09-20           26  pagamento_pendente\n",
       "\n",
       "[739 rows x 4 columns]"
      ]
     },
     "execution_count": 90,
     "metadata": {},
     "output_type": "execute_result"
    }
   ],
   "source": [
    "df[df['created_at'].dt.month == current_month]"
   ]
  },
  {
   "cell_type": "code",
   "execution_count": 91,
   "metadata": {},
   "outputs": [
    {
     "data": {
      "text/html": [
       "<div>\n",
       "<style scoped>\n",
       "    .dataframe tbody tr th:only-of-type {\n",
       "        vertical-align: middle;\n",
       "    }\n",
       "\n",
       "    .dataframe tbody tr th {\n",
       "        vertical-align: top;\n",
       "    }\n",
       "\n",
       "    .dataframe thead th {\n",
       "        text-align: right;\n",
       "    }\n",
       "</style>\n",
       "<table border=\"1\" class=\"dataframe\">\n",
       "  <thead>\n",
       "    <tr style=\"text-align: right;\">\n",
       "      <th></th>\n",
       "      <th>id</th>\n",
       "      <th>created_at</th>\n",
       "      <th>customer_id</th>\n",
       "      <th>status</th>\n",
       "    </tr>\n",
       "  </thead>\n",
       "  <tbody>\n",
       "    <tr>\n",
       "      <th>18</th>\n",
       "      <td>18</td>\n",
       "      <td>2019-09-04</td>\n",
       "      <td>97</td>\n",
       "      <td>entregue</td>\n",
       "    </tr>\n",
       "    <tr>\n",
       "      <th>30</th>\n",
       "      <td>30</td>\n",
       "      <td>2019-09-15</td>\n",
       "      <td>30</td>\n",
       "      <td>entregue</td>\n",
       "    </tr>\n",
       "    <tr>\n",
       "      <th>52</th>\n",
       "      <td>52</td>\n",
       "      <td>2019-09-01</td>\n",
       "      <td>44</td>\n",
       "      <td>carrinho</td>\n",
       "    </tr>\n",
       "    <tr>\n",
       "      <th>58</th>\n",
       "      <td>58</td>\n",
       "      <td>2019-09-25</td>\n",
       "      <td>98</td>\n",
       "      <td>entrega_pendente</td>\n",
       "    </tr>\n",
       "    <tr>\n",
       "      <th>67</th>\n",
       "      <td>67</td>\n",
       "      <td>2019-09-22</td>\n",
       "      <td>29</td>\n",
       "      <td>entregue</td>\n",
       "    </tr>\n",
       "  </tbody>\n",
       "</table>\n",
       "</div>"
      ],
      "text/plain": [
       "    id created_at  customer_id            status\n",
       "18  18 2019-09-04           97          entregue\n",
       "30  30 2019-09-15           30          entregue\n",
       "52  52 2019-09-01           44          carrinho\n",
       "58  58 2019-09-25           98  entrega_pendente\n",
       "67  67 2019-09-22           29          entregue"
      ]
     },
     "execution_count": 91,
     "metadata": {},
     "output_type": "execute_result"
    }
   ],
   "source": [
    "df_filtered = df[(df['created_at'].dt.month == current_month) & (df['created_at'].dt.year == current_year)]\n",
    "df_filtered.head()"
   ]
  },
  {
   "cell_type": "code",
   "execution_count": 95,
   "metadata": {},
   "outputs": [],
   "source": [
    "credential = bigquery.Client.from_service_account_json('key.json')"
   ]
  },
  {
   "cell_type": "code",
   "execution_count": 93,
   "metadata": {},
   "outputs": [],
   "source": [
    "pd_gbq.to_gbq(\n",
    "    df_filtered,\n",
    "    f'{PROJECT_ID}.{DATASET_ID}.order_filtered',\n",
    "    project_id=PROJECT_ID,\n",
    "    if_exists='replace',\n",
    "    credentials=credential\n",
    ")\n"
   ]
  },
  {
   "cell_type": "code",
   "execution_count": 96,
   "metadata": {},
   "outputs": [
    {
     "data": {
      "text/plain": [
       "QueryJob<project=big-query-435107, location=US, id=0d26513f-6612-4392-97ed-2e21136eb664>"
      ]
     },
     "execution_count": 96,
     "metadata": {},
     "output_type": "execute_result"
    }
   ],
   "source": [
    "sql = f\"\"\"\n",
    "DELETE FROM `{PROJECT_ID}.{DATASET_ID}.order`\n",
    "WHERE created_at < '{current_year}-{current_month}-01'\n",
    "\"\"\"\n",
    "\n",
    "credential.query(sql)"
   ]
  },
  {
   "cell_type": "markdown",
   "metadata": {},
   "source": [
    "# How to keep historic"
   ]
  },
  {
   "cell_type": "code",
   "execution_count": 97,
   "metadata": {},
   "outputs": [],
   "source": [
    "df = pd.read_excel('data/Produto.xlsx')"
   ]
  },
  {
   "cell_type": "code",
   "execution_count": 98,
   "metadata": {},
   "outputs": [],
   "source": [
    "df['time_extract'] = datetime.now()"
   ]
  },
  {
   "cell_type": "code",
   "execution_count": 105,
   "metadata": {},
   "outputs": [],
   "source": [
    "df['time_extract'] = datetime.now().strftime('%Y-%m-%d %H:%M:%S')"
   ]
  },
  {
   "cell_type": "code",
   "execution_count": 106,
   "metadata": {},
   "outputs": [
    {
     "data": {
      "text/html": [
       "<div>\n",
       "<style scoped>\n",
       "    .dataframe tbody tr th:only-of-type {\n",
       "        vertical-align: middle;\n",
       "    }\n",
       "\n",
       "    .dataframe tbody tr th {\n",
       "        vertical-align: top;\n",
       "    }\n",
       "\n",
       "    .dataframe thead th {\n",
       "        text-align: right;\n",
       "    }\n",
       "</style>\n",
       "<table border=\"1\" class=\"dataframe\">\n",
       "  <thead>\n",
       "    <tr style=\"text-align: right;\">\n",
       "      <th></th>\n",
       "      <th>ID</th>\n",
       "      <th>Name</th>\n",
       "      <th>Price</th>\n",
       "      <th>Id_Category</th>\n",
       "      <th>time_extract</th>\n",
       "    </tr>\n",
       "  </thead>\n",
       "  <tbody>\n",
       "    <tr>\n",
       "      <th>0</th>\n",
       "      <td>0</td>\n",
       "      <td>Sapato vermelho</td>\n",
       "      <td>96</td>\n",
       "      <td>0</td>\n",
       "      <td>2024-09-17 05:13:39</td>\n",
       "    </tr>\n",
       "    <tr>\n",
       "      <th>1</th>\n",
       "      <td>1</td>\n",
       "      <td>Bolsa mais que Velha</td>\n",
       "      <td>8000</td>\n",
       "      <td>0</td>\n",
       "      <td>2024-09-17 05:13:39</td>\n",
       "    </tr>\n",
       "    <tr>\n",
       "      <th>2</th>\n",
       "      <td>2</td>\n",
       "      <td>Calça</td>\n",
       "      <td>75</td>\n",
       "      <td>0</td>\n",
       "      <td>2024-09-17 05:13:39</td>\n",
       "    </tr>\n",
       "    <tr>\n",
       "      <th>3</th>\n",
       "      <td>3</td>\n",
       "      <td>Camisa apertadinha</td>\n",
       "      <td>170</td>\n",
       "      <td>0</td>\n",
       "      <td>2024-09-17 05:13:39</td>\n",
       "    </tr>\n",
       "    <tr>\n",
       "      <th>4</th>\n",
       "      <td>4</td>\n",
       "      <td>Vestido Super curto</td>\n",
       "      <td>57</td>\n",
       "      <td>0</td>\n",
       "      <td>2024-09-17 05:13:39</td>\n",
       "    </tr>\n",
       "  </tbody>\n",
       "</table>\n",
       "</div>"
      ],
      "text/plain": [
       "   ID                  Name  Price  Id_Category         time_extract\n",
       "0   0       Sapato vermelho     96            0  2024-09-17 05:13:39\n",
       "1   1  Bolsa mais que Velha   8000            0  2024-09-17 05:13:39\n",
       "2   2                 Calça     75            0  2024-09-17 05:13:39\n",
       "3   3    Camisa apertadinha    170            0  2024-09-17 05:13:39\n",
       "4   4   Vestido Super curto     57            0  2024-09-17 05:13:39"
      ]
     },
     "execution_count": 106,
     "metadata": {},
     "output_type": "execute_result"
    }
   ],
   "source": [
    "df.head()"
   ]
  },
  {
   "cell_type": "code",
   "execution_count": 107,
   "metadata": {},
   "outputs": [],
   "source": [
    "df['date_extract'] = datetime.now().date()"
   ]
  },
  {
   "cell_type": "code",
   "execution_count": 108,
   "metadata": {},
   "outputs": [
    {
     "data": {
      "text/html": [
       "<div>\n",
       "<style scoped>\n",
       "    .dataframe tbody tr th:only-of-type {\n",
       "        vertical-align: middle;\n",
       "    }\n",
       "\n",
       "    .dataframe tbody tr th {\n",
       "        vertical-align: top;\n",
       "    }\n",
       "\n",
       "    .dataframe thead th {\n",
       "        text-align: right;\n",
       "    }\n",
       "</style>\n",
       "<table border=\"1\" class=\"dataframe\">\n",
       "  <thead>\n",
       "    <tr style=\"text-align: right;\">\n",
       "      <th></th>\n",
       "      <th>ID</th>\n",
       "      <th>Name</th>\n",
       "      <th>Price</th>\n",
       "      <th>Id_Category</th>\n",
       "      <th>time_extract</th>\n",
       "      <th>date_extract</th>\n",
       "    </tr>\n",
       "  </thead>\n",
       "  <tbody>\n",
       "    <tr>\n",
       "      <th>0</th>\n",
       "      <td>0</td>\n",
       "      <td>Sapato vermelho</td>\n",
       "      <td>96</td>\n",
       "      <td>0</td>\n",
       "      <td>2024-09-17 05:13:39</td>\n",
       "      <td>2024-09-17</td>\n",
       "    </tr>\n",
       "    <tr>\n",
       "      <th>1</th>\n",
       "      <td>1</td>\n",
       "      <td>Bolsa mais que Velha</td>\n",
       "      <td>8000</td>\n",
       "      <td>0</td>\n",
       "      <td>2024-09-17 05:13:39</td>\n",
       "      <td>2024-09-17</td>\n",
       "    </tr>\n",
       "    <tr>\n",
       "      <th>2</th>\n",
       "      <td>2</td>\n",
       "      <td>Calça</td>\n",
       "      <td>75</td>\n",
       "      <td>0</td>\n",
       "      <td>2024-09-17 05:13:39</td>\n",
       "      <td>2024-09-17</td>\n",
       "    </tr>\n",
       "    <tr>\n",
       "      <th>3</th>\n",
       "      <td>3</td>\n",
       "      <td>Camisa apertadinha</td>\n",
       "      <td>170</td>\n",
       "      <td>0</td>\n",
       "      <td>2024-09-17 05:13:39</td>\n",
       "      <td>2024-09-17</td>\n",
       "    </tr>\n",
       "    <tr>\n",
       "      <th>4</th>\n",
       "      <td>4</td>\n",
       "      <td>Vestido Super curto</td>\n",
       "      <td>57</td>\n",
       "      <td>0</td>\n",
       "      <td>2024-09-17 05:13:39</td>\n",
       "      <td>2024-09-17</td>\n",
       "    </tr>\n",
       "  </tbody>\n",
       "</table>\n",
       "</div>"
      ],
      "text/plain": [
       "   ID                  Name  Price  Id_Category         time_extract  \\\n",
       "0   0       Sapato vermelho     96            0  2024-09-17 05:13:39   \n",
       "1   1  Bolsa mais que Velha   8000            0  2024-09-17 05:13:39   \n",
       "2   2                 Calça     75            0  2024-09-17 05:13:39   \n",
       "3   3    Camisa apertadinha    170            0  2024-09-17 05:13:39   \n",
       "4   4   Vestido Super curto     57            0  2024-09-17 05:13:39   \n",
       "\n",
       "  date_extract  \n",
       "0   2024-09-17  \n",
       "1   2024-09-17  \n",
       "2   2024-09-17  \n",
       "3   2024-09-17  \n",
       "4   2024-09-17  "
      ]
     },
     "execution_count": 108,
     "metadata": {},
     "output_type": "execute_result"
    }
   ],
   "source": [
    "df.head()"
   ]
  },
  {
   "cell_type": "code",
   "execution_count": 109,
   "metadata": {},
   "outputs": [],
   "source": [
    "df['extract_time_PTBR'] = datetime.now().strftime('%d/%m/%Y')"
   ]
  },
  {
   "cell_type": "code",
   "execution_count": 110,
   "metadata": {},
   "outputs": [
    {
     "data": {
      "text/html": [
       "<div>\n",
       "<style scoped>\n",
       "    .dataframe tbody tr th:only-of-type {\n",
       "        vertical-align: middle;\n",
       "    }\n",
       "\n",
       "    .dataframe tbody tr th {\n",
       "        vertical-align: top;\n",
       "    }\n",
       "\n",
       "    .dataframe thead th {\n",
       "        text-align: right;\n",
       "    }\n",
       "</style>\n",
       "<table border=\"1\" class=\"dataframe\">\n",
       "  <thead>\n",
       "    <tr style=\"text-align: right;\">\n",
       "      <th></th>\n",
       "      <th>ID</th>\n",
       "      <th>Name</th>\n",
       "      <th>Price</th>\n",
       "      <th>Id_Category</th>\n",
       "      <th>time_extract</th>\n",
       "      <th>date_extract</th>\n",
       "      <th>extract_time_PTBR</th>\n",
       "    </tr>\n",
       "  </thead>\n",
       "  <tbody>\n",
       "    <tr>\n",
       "      <th>0</th>\n",
       "      <td>0</td>\n",
       "      <td>Sapato vermelho</td>\n",
       "      <td>96</td>\n",
       "      <td>0</td>\n",
       "      <td>2024-09-17 05:13:39</td>\n",
       "      <td>2024-09-17</td>\n",
       "      <td>17/09/2024</td>\n",
       "    </tr>\n",
       "    <tr>\n",
       "      <th>1</th>\n",
       "      <td>1</td>\n",
       "      <td>Bolsa mais que Velha</td>\n",
       "      <td>8000</td>\n",
       "      <td>0</td>\n",
       "      <td>2024-09-17 05:13:39</td>\n",
       "      <td>2024-09-17</td>\n",
       "      <td>17/09/2024</td>\n",
       "    </tr>\n",
       "    <tr>\n",
       "      <th>2</th>\n",
       "      <td>2</td>\n",
       "      <td>Calça</td>\n",
       "      <td>75</td>\n",
       "      <td>0</td>\n",
       "      <td>2024-09-17 05:13:39</td>\n",
       "      <td>2024-09-17</td>\n",
       "      <td>17/09/2024</td>\n",
       "    </tr>\n",
       "    <tr>\n",
       "      <th>3</th>\n",
       "      <td>3</td>\n",
       "      <td>Camisa apertadinha</td>\n",
       "      <td>170</td>\n",
       "      <td>0</td>\n",
       "      <td>2024-09-17 05:13:39</td>\n",
       "      <td>2024-09-17</td>\n",
       "      <td>17/09/2024</td>\n",
       "    </tr>\n",
       "    <tr>\n",
       "      <th>4</th>\n",
       "      <td>4</td>\n",
       "      <td>Vestido Super curto</td>\n",
       "      <td>57</td>\n",
       "      <td>0</td>\n",
       "      <td>2024-09-17 05:13:39</td>\n",
       "      <td>2024-09-17</td>\n",
       "      <td>17/09/2024</td>\n",
       "    </tr>\n",
       "  </tbody>\n",
       "</table>\n",
       "</div>"
      ],
      "text/plain": [
       "   ID                  Name  Price  Id_Category         time_extract  \\\n",
       "0   0       Sapato vermelho     96            0  2024-09-17 05:13:39   \n",
       "1   1  Bolsa mais que Velha   8000            0  2024-09-17 05:13:39   \n",
       "2   2                 Calça     75            0  2024-09-17 05:13:39   \n",
       "3   3    Camisa apertadinha    170            0  2024-09-17 05:13:39   \n",
       "4   4   Vestido Super curto     57            0  2024-09-17 05:13:39   \n",
       "\n",
       "  date_extract extract_time_PTBR  \n",
       "0   2024-09-17        17/09/2024  \n",
       "1   2024-09-17        17/09/2024  \n",
       "2   2024-09-17        17/09/2024  \n",
       "3   2024-09-17        17/09/2024  \n",
       "4   2024-09-17        17/09/2024  "
      ]
     },
     "execution_count": 110,
     "metadata": {},
     "output_type": "execute_result"
    }
   ],
   "source": [
    "df.head()"
   ]
  },
  {
   "cell_type": "code",
   "execution_count": 111,
   "metadata": {},
   "outputs": [],
   "source": [
    "df['time_extract_PTBR'] = datetime.now().strftime('%H:%M:%S')"
   ]
  },
  {
   "cell_type": "code",
   "execution_count": 112,
   "metadata": {},
   "outputs": [
    {
     "data": {
      "text/html": [
       "<div>\n",
       "<style scoped>\n",
       "    .dataframe tbody tr th:only-of-type {\n",
       "        vertical-align: middle;\n",
       "    }\n",
       "\n",
       "    .dataframe tbody tr th {\n",
       "        vertical-align: top;\n",
       "    }\n",
       "\n",
       "    .dataframe thead th {\n",
       "        text-align: right;\n",
       "    }\n",
       "</style>\n",
       "<table border=\"1\" class=\"dataframe\">\n",
       "  <thead>\n",
       "    <tr style=\"text-align: right;\">\n",
       "      <th></th>\n",
       "      <th>ID</th>\n",
       "      <th>Name</th>\n",
       "      <th>Price</th>\n",
       "      <th>Id_Category</th>\n",
       "      <th>time_extract</th>\n",
       "      <th>date_extract</th>\n",
       "      <th>extract_time_PTBR</th>\n",
       "      <th>time_extract_PTBR</th>\n",
       "    </tr>\n",
       "  </thead>\n",
       "  <tbody>\n",
       "    <tr>\n",
       "      <th>0</th>\n",
       "      <td>0</td>\n",
       "      <td>Sapato vermelho</td>\n",
       "      <td>96</td>\n",
       "      <td>0</td>\n",
       "      <td>2024-09-17 05:13:39</td>\n",
       "      <td>2024-09-17</td>\n",
       "      <td>17/09/2024</td>\n",
       "      <td>05:15:23</td>\n",
       "    </tr>\n",
       "    <tr>\n",
       "      <th>1</th>\n",
       "      <td>1</td>\n",
       "      <td>Bolsa mais que Velha</td>\n",
       "      <td>8000</td>\n",
       "      <td>0</td>\n",
       "      <td>2024-09-17 05:13:39</td>\n",
       "      <td>2024-09-17</td>\n",
       "      <td>17/09/2024</td>\n",
       "      <td>05:15:23</td>\n",
       "    </tr>\n",
       "    <tr>\n",
       "      <th>2</th>\n",
       "      <td>2</td>\n",
       "      <td>Calça</td>\n",
       "      <td>75</td>\n",
       "      <td>0</td>\n",
       "      <td>2024-09-17 05:13:39</td>\n",
       "      <td>2024-09-17</td>\n",
       "      <td>17/09/2024</td>\n",
       "      <td>05:15:23</td>\n",
       "    </tr>\n",
       "    <tr>\n",
       "      <th>3</th>\n",
       "      <td>3</td>\n",
       "      <td>Camisa apertadinha</td>\n",
       "      <td>170</td>\n",
       "      <td>0</td>\n",
       "      <td>2024-09-17 05:13:39</td>\n",
       "      <td>2024-09-17</td>\n",
       "      <td>17/09/2024</td>\n",
       "      <td>05:15:23</td>\n",
       "    </tr>\n",
       "    <tr>\n",
       "      <th>4</th>\n",
       "      <td>4</td>\n",
       "      <td>Vestido Super curto</td>\n",
       "      <td>57</td>\n",
       "      <td>0</td>\n",
       "      <td>2024-09-17 05:13:39</td>\n",
       "      <td>2024-09-17</td>\n",
       "      <td>17/09/2024</td>\n",
       "      <td>05:15:23</td>\n",
       "    </tr>\n",
       "  </tbody>\n",
       "</table>\n",
       "</div>"
      ],
      "text/plain": [
       "   ID                  Name  Price  Id_Category         time_extract  \\\n",
       "0   0       Sapato vermelho     96            0  2024-09-17 05:13:39   \n",
       "1   1  Bolsa mais que Velha   8000            0  2024-09-17 05:13:39   \n",
       "2   2                 Calça     75            0  2024-09-17 05:13:39   \n",
       "3   3    Camisa apertadinha    170            0  2024-09-17 05:13:39   \n",
       "4   4   Vestido Super curto     57            0  2024-09-17 05:13:39   \n",
       "\n",
       "  date_extract extract_time_PTBR time_extract_PTBR  \n",
       "0   2024-09-17        17/09/2024          05:15:23  \n",
       "1   2024-09-17        17/09/2024          05:15:23  \n",
       "2   2024-09-17        17/09/2024          05:15:23  \n",
       "3   2024-09-17        17/09/2024          05:15:23  \n",
       "4   2024-09-17        17/09/2024          05:15:23  "
      ]
     },
     "execution_count": 112,
     "metadata": {},
     "output_type": "execute_result"
    }
   ],
   "source": [
    "df.head()"
   ]
  },
  {
   "cell_type": "code",
   "execution_count": 113,
   "metadata": {},
   "outputs": [],
   "source": [
    "df['time_extract'] = pd.to_datetime(df['time_extract'])\n",
    "df['date_extract'] = pd.to_datetime(df['date_extract'])"
   ]
  },
  {
   "cell_type": "code",
   "execution_count": 114,
   "metadata": {},
   "outputs": [],
   "source": [
    "credential = service_account.Credentials.from_service_account_file('key.json')\n",
    "\n",
    "pd_gbq.to_gbq(\n",
    "    df,\n",
    "    f'{PROJECT_ID}.{DATASET_ID}.products',\n",
    "    project_id=PROJECT_ID,\n",
    "    if_exists='replace',\n",
    "    credentials=credential\n",
    ")\n"
   ]
  }
 ],
 "metadata": {
  "kernelspec": {
   "display_name": ".venv",
   "language": "python",
   "name": "python3"
  },
  "language_info": {
   "codemirror_mode": {
    "name": "ipython",
    "version": 3
   },
   "file_extension": ".py",
   "mimetype": "text/x-python",
   "name": "python",
   "nbconvert_exporter": "python",
   "pygments_lexer": "ipython3",
   "version": "3.12.3"
  }
 },
 "nbformat": 4,
 "nbformat_minor": 2
}
