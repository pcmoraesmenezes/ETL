{
 "cells": [
  {
   "cell_type": "markdown",
   "metadata": {},
   "source": [
    "# Getting started with ETL"
   ]
  },
  {
   "cell_type": "markdown",
   "metadata": {},
   "source": [
    "**ETL** stands for **Extract, Transform, Load**. It is a data integration process used to collect data from multiple sources, clean and transform the data into a proper format, and load it into a target system, such as a data warehouse or database.\n",
    "\n",
    "## ETL Process Breakdown\n",
    "\n",
    "1. **Extract**:\n",
    "   The first step involves extracting data from various sources, such as databases, APIs, or files (e.g., CSV, JSON). The goal is to retrieve the raw data needed for analysis.\n",
    "\n",
    "2. **Transform**:\n",
    "   In this stage, the extracted data is cleaned, formatted, and transformed to ensure consistency and usability. Transformations might include:\n",
    "   - Handling missing or null values\n",
    "   - Standardizing data formats (e.g., date formats, currencies)\n",
    "   - Aggregating data or performing calculations\n",
    "   - Merging data from multiple sources\n",
    "\n",
    "3. **Load**:\n",
    "   The final step is loading the transformed data into a target system, such as a data warehouse (e.g., Amazon Redshift, Google BigQuery) or database. This makes the data ready for reporting, analytics, or use by machine learning models.\n",
    "\n",
    "## Why ETL?\n",
    "\n",
    "ETL automates the process of collecting, processing, and storing data, ensuring that clean and consistent data is always available for decision-making. This process is essential for businesses that need to handle large volumes of data from multiple sources efficiently and consistently.\n",
    "\n",
    "## Example\n",
    "\n",
    "Imagine a retail company that wants to combine data from its online store, physical store, and customer service platform. ETL would:\n",
    "1. **Extract** sales data from the online and physical store databases and customer feedback from the service platform.\n",
    "2. **Transform** the data to standardize currencies, clean any missing values, and ensure all timestamps use the same format.\n",
    "3. **Load** the consolidated data into a centralized database, ready for analysis.\n",
    "\n",
    "By automating ETL, the company ensures that its data is always up-to-date and ready for reporting and analytics."
   ]
  },
  {
   "cell_type": "markdown",
   "metadata": {},
   "source": [
    "# First Impressions\n",
    "\n",
    "In the code below is shown a simple example of how to connect with the google-cloud bigquery and extract data from a table."
   ]
  },
  {
   "cell_type": "code",
   "execution_count": null,
   "metadata": {},
   "outputs": [],
   "source": [
    "!pip install google-cloud-bigquery\n",
    "!pip install --upgrade google-cloud-bigquery\n",
    "!pip install pandas_gbq\n",
    "!pip install pandas\n",
    "!pip install load_dotenv\n",
    "!pip install openpyxl"
   ]
  },
  {
   "cell_type": "markdown",
   "metadata": {},
   "source": [
    "## Step 1: Install the BigQuery Library"
   ]
  },
  {
   "cell_type": "code",
   "execution_count": 12,
   "metadata": {},
   "outputs": [],
   "source": [
    "from google.cloud import bigquery\n",
    "import pandas as pd\n",
    "from load_dotenv import load_dotenv\n",
    "import os"
   ]
  },
  {
   "cell_type": "markdown",
   "metadata": {},
   "source": [
    "## Step 2: Authenticate with Google Cloud and Get the .env file"
   ]
  },
  {
   "cell_type": "code",
   "execution_count": 13,
   "metadata": {},
   "outputs": [],
   "source": [
    "load_dotenv()\n",
    "\n",
    "FIRST_PROJECT = os.getenv('FIRST_PROJECT')\n",
    "\n",
    "credential = 'key.json'\n",
    "client = bigquery.Client.from_service_account_json(credential)"
   ]
  },
  {
   "cell_type": "markdown",
   "metadata": {},
   "source": [
    "## Step 3: Load Data from BigQuery"
   ]
  },
  {
   "cell_type": "code",
   "execution_count": 14,
   "metadata": {},
   "outputs": [
    {
     "name": "stderr",
     "output_type": "stream",
     "text": [
      "/home/pcmoraes/Desktop/codigos/ETL/.venv/lib/python3.10/site-packages/google/cloud/bigquery/table.py:1727: UserWarning: BigQuery Storage module not found, fetch data with the REST endpoint instead.\n",
      "  warnings.warn(\n"
     ]
    },
    {
     "data": {
      "text/html": [
       "<div>\n",
       "<style scoped>\n",
       "    .dataframe tbody tr th:only-of-type {\n",
       "        vertical-align: middle;\n",
       "    }\n",
       "\n",
       "    .dataframe tbody tr th {\n",
       "        vertical-align: top;\n",
       "    }\n",
       "\n",
       "    .dataframe thead th {\n",
       "        text-align: right;\n",
       "    }\n",
       "</style>\n",
       "<table border=\"1\" class=\"dataframe\">\n",
       "  <thead>\n",
       "    <tr style=\"text-align: right;\">\n",
       "      <th></th>\n",
       "      <th>id</th>\n",
       "      <th>created_at</th>\n",
       "      <th>first_name</th>\n",
       "      <th>last_name</th>\n",
       "      <th>email</th>\n",
       "      <th>cell_phone</th>\n",
       "      <th>country</th>\n",
       "      <th>state</th>\n",
       "      <th>street</th>\n",
       "      <th>number</th>\n",
       "      <th>additionals</th>\n",
       "    </tr>\n",
       "  </thead>\n",
       "  <tbody>\n",
       "    <tr>\n",
       "      <th>0</th>\n",
       "      <td>36</td>\n",
       "      <td>2018-01-26 03:29:13+00:00</td>\n",
       "      <td>Mariana</td>\n",
       "      <td>Góes</td>\n",
       "      <td>mariana@meu_email.com</td>\n",
       "      <td>9 7324-4293</td>\n",
       "      <td>Brasil</td>\n",
       "      <td>None</td>\n",
       "      <td>None</td>\n",
       "      <td>NaN</td>\n",
       "      <td>Apto 25</td>\n",
       "    </tr>\n",
       "    <tr>\n",
       "      <th>1</th>\n",
       "      <td>73</td>\n",
       "      <td>2018-02-03 07:37:38+00:00</td>\n",
       "      <td>Cristiano</td>\n",
       "      <td>Almeida</td>\n",
       "      <td>cristiano@usuario.com</td>\n",
       "      <td>9 2630-9907</td>\n",
       "      <td>Brasil</td>\n",
       "      <td>None</td>\n",
       "      <td>None</td>\n",
       "      <td>NaN</td>\n",
       "      <td>Conjunto 24</td>\n",
       "    </tr>\n",
       "    <tr>\n",
       "      <th>2</th>\n",
       "      <td>84</td>\n",
       "      <td>2018-11-01 15:39:40+00:00</td>\n",
       "      <td>Carol</td>\n",
       "      <td>Bueno</td>\n",
       "      <td>carol@meu_email.com</td>\n",
       "      <td>9 3760-2211</td>\n",
       "      <td>Brasil</td>\n",
       "      <td>None</td>\n",
       "      <td>None</td>\n",
       "      <td>NaN</td>\n",
       "      <td>Conjunto 26</td>\n",
       "    </tr>\n",
       "    <tr>\n",
       "      <th>3</th>\n",
       "      <td>95</td>\n",
       "      <td>2018-10-01 11:35:59+00:00</td>\n",
       "      <td>Mariana</td>\n",
       "      <td>Rosa</td>\n",
       "      <td>mariana@usuario.com</td>\n",
       "      <td>9 3139-2145</td>\n",
       "      <td>Brasil</td>\n",
       "      <td>None</td>\n",
       "      <td>None</td>\n",
       "      <td>NaN</td>\n",
       "      <td>None</td>\n",
       "    </tr>\n",
       "    <tr>\n",
       "      <th>4</th>\n",
       "      <td>0</td>\n",
       "      <td>2017-11-01 14:45:41+00:00</td>\n",
       "      <td>Marta</td>\n",
       "      <td>Jesus</td>\n",
       "      <td>None</td>\n",
       "      <td>9 9102-7834</td>\n",
       "      <td>Brasil</td>\n",
       "      <td>Acre</td>\n",
       "      <td>None</td>\n",
       "      <td>NaN</td>\n",
       "      <td>Conjunto 16</td>\n",
       "    </tr>\n",
       "  </tbody>\n",
       "</table>\n",
       "</div>"
      ],
      "text/plain": [
       "   id                created_at first_name last_name                  email  \\\n",
       "0  36 2018-01-26 03:29:13+00:00    Mariana      Góes  mariana@meu_email.com   \n",
       "1  73 2018-02-03 07:37:38+00:00  Cristiano   Almeida  cristiano@usuario.com   \n",
       "2  84 2018-11-01 15:39:40+00:00      Carol     Bueno    carol@meu_email.com   \n",
       "3  95 2018-10-01 11:35:59+00:00    Mariana      Rosa    mariana@usuario.com   \n",
       "4   0 2017-11-01 14:45:41+00:00      Marta     Jesus                   None   \n",
       "\n",
       "    cell_phone country state street  number  additionals  \n",
       "0  9 7324-4293  Brasil  None   None     NaN      Apto 25  \n",
       "1  9 2630-9907  Brasil  None   None     NaN  Conjunto 24  \n",
       "2  9 3760-2211  Brasil  None   None     NaN  Conjunto 26  \n",
       "3  9 3139-2145  Brasil  None   None     NaN         None  \n",
       "4  9 9102-7834  Brasil  Acre   None     NaN  Conjunto 16  "
      ]
     },
     "execution_count": 14,
     "metadata": {},
     "output_type": "execute_result"
    }
   ],
   "source": [
    "query = f\"\"\"\n",
    "SELECT * FROM `{FIRST_PROJECT}`\n",
    "\"\"\"\n",
    "\n",
    "result = client.query(query)\n",
    "df = result.to_dataframe()\n",
    "\n",
    "df.head()"
   ]
  },
  {
   "cell_type": "markdown",
   "metadata": {},
   "source": [
    "## How to transfer data locally to BigQuery"
   ]
  },
  {
   "cell_type": "code",
   "execution_count": 25,
   "metadata": {},
   "outputs": [],
   "source": [
    "import pandas as pd\n",
    "from google.cloud import bigquery\n",
    "from google.oauth2 import service_account\n",
    "import pandas_gbq as pd_gbq"
   ]
  },
  {
   "cell_type": "code",
   "execution_count": 16,
   "metadata": {},
   "outputs": [],
   "source": [
    "credentials = service_account.Credentials.from_service_account_file('key.json')"
   ]
  },
  {
   "cell_type": "code",
   "execution_count": 17,
   "metadata": {},
   "outputs": [],
   "source": [
    "df = pd.read_excel('data/Produto.xlsx')"
   ]
  },
  {
   "cell_type": "code",
   "execution_count": 18,
   "metadata": {},
   "outputs": [
    {
     "data": {
      "text/html": [
       "<div>\n",
       "<style scoped>\n",
       "    .dataframe tbody tr th:only-of-type {\n",
       "        vertical-align: middle;\n",
       "    }\n",
       "\n",
       "    .dataframe tbody tr th {\n",
       "        vertical-align: top;\n",
       "    }\n",
       "\n",
       "    .dataframe thead th {\n",
       "        text-align: right;\n",
       "    }\n",
       "</style>\n",
       "<table border=\"1\" class=\"dataframe\">\n",
       "  <thead>\n",
       "    <tr style=\"text-align: right;\">\n",
       "      <th></th>\n",
       "      <th>ID</th>\n",
       "      <th>Name</th>\n",
       "      <th>Price</th>\n",
       "      <th>Id_Category</th>\n",
       "    </tr>\n",
       "  </thead>\n",
       "  <tbody>\n",
       "    <tr>\n",
       "      <th>0</th>\n",
       "      <td>0</td>\n",
       "      <td>Sapato vermelho</td>\n",
       "      <td>96</td>\n",
       "      <td>0</td>\n",
       "    </tr>\n",
       "    <tr>\n",
       "      <th>1</th>\n",
       "      <td>1</td>\n",
       "      <td>Bolsa mais que Velha</td>\n",
       "      <td>8000</td>\n",
       "      <td>0</td>\n",
       "    </tr>\n",
       "    <tr>\n",
       "      <th>2</th>\n",
       "      <td>2</td>\n",
       "      <td>Calça</td>\n",
       "      <td>75</td>\n",
       "      <td>0</td>\n",
       "    </tr>\n",
       "    <tr>\n",
       "      <th>3</th>\n",
       "      <td>3</td>\n",
       "      <td>Camisa apertadinha</td>\n",
       "      <td>170</td>\n",
       "      <td>0</td>\n",
       "    </tr>\n",
       "    <tr>\n",
       "      <th>4</th>\n",
       "      <td>4</td>\n",
       "      <td>Vestido Super curto</td>\n",
       "      <td>57</td>\n",
       "      <td>0</td>\n",
       "    </tr>\n",
       "  </tbody>\n",
       "</table>\n",
       "</div>"
      ],
      "text/plain": [
       "   ID                  Name  Price  Id_Category\n",
       "0   0       Sapato vermelho     96            0\n",
       "1   1  Bolsa mais que Velha   8000            0\n",
       "2   2                 Calça     75            0\n",
       "3   3    Camisa apertadinha    170            0\n",
       "4   4   Vestido Super curto     57            0"
      ]
     },
     "execution_count": 18,
     "metadata": {},
     "output_type": "execute_result"
    }
   ],
   "source": [
    "df.head()"
   ]
  },
  {
   "cell_type": "code",
   "execution_count": 22,
   "metadata": {},
   "outputs": [],
   "source": [
    "load_dotenv()\n",
    "SEND = os.getenv('SEND_DATA')\n",
    "PROJECT_ID = os.getenv('PROJECT_ID')"
   ]
  },
  {
   "cell_type": "code",
   "execution_count": 28,
   "metadata": {},
   "outputs": [],
   "source": [
    "pd_gbq.to_gbq(\n",
    "    df,\n",
    "    destination_table=SEND,\n",
    "    project_id = PROJECT_ID,\n",
    "    if_exists = 'replace',\n",
    "    credentials=credentials\n",
    ")"
   ]
  }
 ],
 "metadata": {
  "kernelspec": {
   "display_name": ".venv",
   "language": "python",
   "name": "python3"
  },
  "language_info": {
   "codemirror_mode": {
    "name": "ipython",
    "version": 3
   },
   "file_extension": ".py",
   "mimetype": "text/x-python",
   "name": "python",
   "nbconvert_exporter": "python",
   "pygments_lexer": "ipython3",
   "version": "3.10.12"
  }
 },
 "nbformat": 4,
 "nbformat_minor": 2
}
